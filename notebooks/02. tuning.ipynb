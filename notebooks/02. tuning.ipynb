{
 "cells": [
  {
   "cell_type": "code",
   "execution_count": 1,
   "metadata": {
    "collapsed": true,
    "ExecuteTime": {
     "end_time": "2023-11-01T23:12:17.937420Z",
     "start_time": "2023-11-01T23:12:17.918569Z"
    }
   },
   "outputs": [],
   "source": [
    "import sys\n",
    "sys.path.append('/Users/gscerberus/Desktop/Loan_Prediction_Analysis')"
   ]
  },
  {
   "cell_type": "code",
   "execution_count": 2,
   "outputs": [],
   "source": [
    "import os\n",
    "os.chdir('/Users/gscerberus/Desktop/Loan_Prediction_Analysis')"
   ],
   "metadata": {
    "collapsed": false,
    "ExecuteTime": {
     "end_time": "2023-11-01T23:12:17.938252Z",
     "start_time": "2023-11-01T23:12:17.922350Z"
    }
   }
  },
  {
   "cell_type": "code",
   "execution_count": 3,
   "outputs": [
    {
     "data": {
      "text/plain": "'/Users/gscerberus/Desktop/Loan_Prediction_Analysis'"
     },
     "execution_count": 3,
     "metadata": {},
     "output_type": "execute_result"
    }
   ],
   "source": [
    "os.getcwd()"
   ],
   "metadata": {
    "collapsed": false,
    "ExecuteTime": {
     "end_time": "2023-11-01T23:12:18.510176Z",
     "start_time": "2023-11-01T23:12:18.496983Z"
    }
   }
  },
  {
   "cell_type": "code",
   "execution_count": 4,
   "outputs": [],
   "source": [
    "import pandas as pd\n",
    "import numpy as np\n",
    "import warnings\n",
    "warnings.filterwarnings('ignore')\n",
    "\n",
    "# hyperparameter values\n",
    "from src.hyperparameters import (\n",
    "    SVC_PARAM_GRID,\n",
    "    LOGISTIC_REGRESSION_PARAM_GRID,\n",
    "    DECISION_TREES_PARAM_GRID,\n",
    "    RANDOM_FOREST_PARAM_GRID,\n",
    "    XGB_PARAM_GRID)\n",
    "\n",
    "from src.tuning import Tuning\n",
    "\n",
    "# different models\n",
    "from sklearn.linear_model import LogisticRegression\n",
    "from sklearn.ensemble import RandomForestClassifier\n",
    "from sklearn.svm import SVC\n",
    "from sklearn.tree import DecisionTreeClassifier\n",
    "from xgboost import XGBClassifier\n"
   ],
   "metadata": {
    "collapsed": false,
    "ExecuteTime": {
     "end_time": "2023-11-01T23:12:20.369492Z",
     "start_time": "2023-11-01T23:12:19.106646Z"
    }
   }
  },
  {
   "cell_type": "code",
   "execution_count": 5,
   "outputs": [],
   "source": [
    "df = pd.read_csv('data/final_loan_data_set.csv')"
   ],
   "metadata": {
    "collapsed": false,
    "ExecuteTime": {
     "end_time": "2023-11-01T23:12:20.373302Z",
     "start_time": "2023-11-01T23:12:20.364713Z"
    }
   }
  },
  {
   "cell_type": "code",
   "execution_count": 6,
   "outputs": [
    {
     "data": {
      "text/plain": "     Gender  Married  Education  Self_Employed  LoanAmount  Loan_Amount_Term  \\\n0       1.0      0.0        0.0            0.0        0.37              1.00   \n1       1.0      1.0        0.0            0.0        0.32              1.00   \n2       1.0      1.0        0.0            1.0        0.16              1.00   \n3       1.0      1.0        1.0            0.0        0.30              1.00   \n4       1.0      0.0        0.0            0.0        0.36              1.00   \n..      ...      ...        ...            ...         ...               ...   \n529     0.0      0.0        0.0            0.0        0.17              1.00   \n530     1.0      1.0        0.0            0.0        0.08              0.48   \n531     1.0      1.0        0.0            0.0        0.66              1.00   \n532     1.0      1.0        0.0            0.0        0.49              1.00   \n533     0.0      0.0        0.0            1.0        0.34              1.00   \n\n     Credit_History  Property_Area  Loan_Status  TotalIncome  \n0               1.0            2.0          1.0         0.36  \n1               1.0            0.0          0.0         0.38  \n2               1.0            2.0          1.0         0.13  \n3               1.0            2.0          1.0         0.28  \n4               1.0            2.0          1.0         0.37  \n..              ...            ...          ...          ...  \n529             1.0            0.0          1.0         0.12  \n530             1.0            0.0          1.0         0.22  \n531             1.0            2.0          1.0         0.56  \n532             1.0            2.0          1.0         0.50  \n533             0.0            1.0          0.0         0.26  \n\n[534 rows x 10 columns]",
      "text/html": "<div>\n<style scoped>\n    .dataframe tbody tr th:only-of-type {\n        vertical-align: middle;\n    }\n\n    .dataframe tbody tr th {\n        vertical-align: top;\n    }\n\n    .dataframe thead th {\n        text-align: right;\n    }\n</style>\n<table border=\"1\" class=\"dataframe\">\n  <thead>\n    <tr style=\"text-align: right;\">\n      <th></th>\n      <th>Gender</th>\n      <th>Married</th>\n      <th>Education</th>\n      <th>Self_Employed</th>\n      <th>LoanAmount</th>\n      <th>Loan_Amount_Term</th>\n      <th>Credit_History</th>\n      <th>Property_Area</th>\n      <th>Loan_Status</th>\n      <th>TotalIncome</th>\n    </tr>\n  </thead>\n  <tbody>\n    <tr>\n      <th>0</th>\n      <td>1.0</td>\n      <td>0.0</td>\n      <td>0.0</td>\n      <td>0.0</td>\n      <td>0.37</td>\n      <td>1.00</td>\n      <td>1.0</td>\n      <td>2.0</td>\n      <td>1.0</td>\n      <td>0.36</td>\n    </tr>\n    <tr>\n      <th>1</th>\n      <td>1.0</td>\n      <td>1.0</td>\n      <td>0.0</td>\n      <td>0.0</td>\n      <td>0.32</td>\n      <td>1.00</td>\n      <td>1.0</td>\n      <td>0.0</td>\n      <td>0.0</td>\n      <td>0.38</td>\n    </tr>\n    <tr>\n      <th>2</th>\n      <td>1.0</td>\n      <td>1.0</td>\n      <td>0.0</td>\n      <td>1.0</td>\n      <td>0.16</td>\n      <td>1.00</td>\n      <td>1.0</td>\n      <td>2.0</td>\n      <td>1.0</td>\n      <td>0.13</td>\n    </tr>\n    <tr>\n      <th>3</th>\n      <td>1.0</td>\n      <td>1.0</td>\n      <td>1.0</td>\n      <td>0.0</td>\n      <td>0.30</td>\n      <td>1.00</td>\n      <td>1.0</td>\n      <td>2.0</td>\n      <td>1.0</td>\n      <td>0.28</td>\n    </tr>\n    <tr>\n      <th>4</th>\n      <td>1.0</td>\n      <td>0.0</td>\n      <td>0.0</td>\n      <td>0.0</td>\n      <td>0.36</td>\n      <td>1.00</td>\n      <td>1.0</td>\n      <td>2.0</td>\n      <td>1.0</td>\n      <td>0.37</td>\n    </tr>\n    <tr>\n      <th>...</th>\n      <td>...</td>\n      <td>...</td>\n      <td>...</td>\n      <td>...</td>\n      <td>...</td>\n      <td>...</td>\n      <td>...</td>\n      <td>...</td>\n      <td>...</td>\n      <td>...</td>\n    </tr>\n    <tr>\n      <th>529</th>\n      <td>0.0</td>\n      <td>0.0</td>\n      <td>0.0</td>\n      <td>0.0</td>\n      <td>0.17</td>\n      <td>1.00</td>\n      <td>1.0</td>\n      <td>0.0</td>\n      <td>1.0</td>\n      <td>0.12</td>\n    </tr>\n    <tr>\n      <th>530</th>\n      <td>1.0</td>\n      <td>1.0</td>\n      <td>0.0</td>\n      <td>0.0</td>\n      <td>0.08</td>\n      <td>0.48</td>\n      <td>1.0</td>\n      <td>0.0</td>\n      <td>1.0</td>\n      <td>0.22</td>\n    </tr>\n    <tr>\n      <th>531</th>\n      <td>1.0</td>\n      <td>1.0</td>\n      <td>0.0</td>\n      <td>0.0</td>\n      <td>0.66</td>\n      <td>1.00</td>\n      <td>1.0</td>\n      <td>2.0</td>\n      <td>1.0</td>\n      <td>0.56</td>\n    </tr>\n    <tr>\n      <th>532</th>\n      <td>1.0</td>\n      <td>1.0</td>\n      <td>0.0</td>\n      <td>0.0</td>\n      <td>0.49</td>\n      <td>1.00</td>\n      <td>1.0</td>\n      <td>2.0</td>\n      <td>1.0</td>\n      <td>0.50</td>\n    </tr>\n    <tr>\n      <th>533</th>\n      <td>0.0</td>\n      <td>0.0</td>\n      <td>0.0</td>\n      <td>1.0</td>\n      <td>0.34</td>\n      <td>1.00</td>\n      <td>0.0</td>\n      <td>1.0</td>\n      <td>0.0</td>\n      <td>0.26</td>\n    </tr>\n  </tbody>\n</table>\n<p>534 rows × 10 columns</p>\n</div>"
     },
     "execution_count": 6,
     "metadata": {},
     "output_type": "execute_result"
    }
   ],
   "source": [
    "df"
   ],
   "metadata": {
    "collapsed": false,
    "ExecuteTime": {
     "end_time": "2023-11-01T23:12:20.384044Z",
     "start_time": "2023-11-01T23:12:20.372715Z"
    }
   }
  },
  {
   "cell_type": "code",
   "execution_count": 7,
   "outputs": [],
   "source": [
    "# Before choosing the right model, let's test some models and their hyperparameters\n",
    "# Creating val, train and test set\n",
    "\n",
    "# Will create 60-20-20 split\n",
    "train, validate, test = np.split(df.sample(frac=1), [int(.6*len(df)), int(.8*len(df))])\n"
   ],
   "metadata": {
    "collapsed": false,
    "ExecuteTime": {
     "end_time": "2023-11-01T23:12:25.623473Z",
     "start_time": "2023-11-01T23:12:25.572286Z"
    }
   }
  },
  {
   "cell_type": "code",
   "execution_count": 8,
   "outputs": [],
   "source": [
    "X = validate.drop(columns=['Loan_Status'])\n",
    "y = validate['Loan_Status']"
   ],
   "metadata": {
    "collapsed": false,
    "ExecuteTime": {
     "end_time": "2023-11-01T23:12:26.031776Z",
     "start_time": "2023-11-01T23:12:26.003315Z"
    }
   }
  },
  {
   "cell_type": "code",
   "execution_count": 9,
   "outputs": [
    {
     "data": {
      "text/plain": "{'C': 1, 'penalty': 'l2'}"
     },
     "execution_count": 9,
     "metadata": {},
     "output_type": "execute_result"
    }
   ],
   "source": [
    "# logistic regression\n",
    "lr = LogisticRegression()\n",
    "tuner = Tuning(model=lr, param_grid=LOGISTIC_REGRESSION_PARAM_GRID)\n",
    "best_params = tuner.tune(X, y)\n",
    "\n",
    "best_params"
   ],
   "metadata": {
    "collapsed": false,
    "ExecuteTime": {
     "end_time": "2023-11-01T23:12:34.447952Z",
     "start_time": "2023-11-01T23:12:34.331633Z"
    }
   }
  },
  {
   "cell_type": "code",
   "execution_count": 10,
   "outputs": [
    {
     "data": {
      "text/plain": "{'C': 0.1, 'gamma': 0.1, 'kernel': 'linear'}"
     },
     "execution_count": 10,
     "metadata": {},
     "output_type": "execute_result"
    }
   ],
   "source": [
    "# svc\n",
    "svc = SVC()\n",
    "tuner = Tuning(model=svc, param_grid=SVC_PARAM_GRID)\n",
    "best_params = tuner.tune(X, y)\n",
    "\n",
    "best_params"
   ],
   "metadata": {
    "collapsed": false,
    "ExecuteTime": {
     "end_time": "2023-11-01T23:12:35.262621Z",
     "start_time": "2023-11-01T23:12:35.000533Z"
    }
   }
  },
  {
   "cell_type": "code",
   "execution_count": 11,
   "outputs": [
    {
     "data": {
      "text/plain": "{'max_depth': 30, 'min_samples_leaf': 1, 'min_samples_split': 5}"
     },
     "execution_count": 11,
     "metadata": {},
     "output_type": "execute_result"
    }
   ],
   "source": [
    "# decision trees\n",
    "dt = DecisionTreeClassifier()\n",
    "tuner = Tuning(model=dt, param_grid=DECISION_TREES_PARAM_GRID)\n",
    "best_params = tuner.tune(X, y)\n",
    "\n",
    "best_params"
   ],
   "metadata": {
    "collapsed": false,
    "ExecuteTime": {
     "end_time": "2023-11-01T23:12:36.365746Z",
     "start_time": "2023-11-01T23:12:35.970105Z"
    }
   }
  },
  {
   "cell_type": "code",
   "execution_count": 12,
   "outputs": [
    {
     "data": {
      "text/plain": "{'max_depth': 10,\n 'min_samples_leaf': 2,\n 'min_samples_split': 10,\n 'n_estimators': 200}"
     },
     "execution_count": 12,
     "metadata": {},
     "output_type": "execute_result"
    }
   ],
   "source": [
    "# random forest\n",
    "rf = RandomForestClassifier()\n",
    "tuner = Tuning(model=rf, param_grid=RANDOM_FOREST_PARAM_GRID)\n",
    "best_params = tuner.tune(X, y)\n",
    "\n",
    "best_params"
   ],
   "metadata": {
    "collapsed": false,
    "ExecuteTime": {
     "end_time": "2023-11-01T23:13:38.619189Z",
     "start_time": "2023-11-01T23:12:40.279264Z"
    }
   }
  },
  {
   "cell_type": "code",
   "execution_count": 13,
   "outputs": [
    {
     "data": {
      "text/plain": "{'learning_rate': 0.01, 'max_depth': 3, 'n_estimators': 100, 'subsample': 0.8}"
     },
     "execution_count": 13,
     "metadata": {},
     "output_type": "execute_result"
    }
   ],
   "source": [
    "# xgb\n",
    "xgb = XGBClassifier()\n",
    "tuner = Tuning(model=xgb, param_grid=XGB_PARAM_GRID)\n",
    "best_params = tuner.tune(X, y)\n",
    "\n",
    "best_params"
   ],
   "metadata": {
    "collapsed": false,
    "ExecuteTime": {
     "end_time": "2023-11-01T23:14:12.810904Z",
     "start_time": "2023-11-01T23:13:41.880989Z"
    }
   }
  },
  {
   "cell_type": "code",
   "execution_count": 13,
   "outputs": [],
   "source": [],
   "metadata": {
    "collapsed": false
   }
  },
  {
   "cell_type": "code",
   "execution_count": null,
   "outputs": [],
   "source": [],
   "metadata": {
    "collapsed": false
   }
  }
 ],
 "metadata": {
  "kernelspec": {
   "name": "ml",
   "language": "python",
   "display_name": "ml"
  },
  "language_info": {
   "codemirror_mode": {
    "name": "ipython",
    "version": 2
   },
   "file_extension": ".py",
   "mimetype": "text/x-python",
   "name": "python",
   "nbconvert_exporter": "python",
   "pygments_lexer": "ipython2",
   "version": "2.7.6"
  }
 },
 "nbformat": 4,
 "nbformat_minor": 0
}
