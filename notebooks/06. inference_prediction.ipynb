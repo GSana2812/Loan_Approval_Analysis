{
 "cells": [
  {
   "cell_type": "code",
   "execution_count": 20,
   "metadata": {
    "collapsed": true,
    "ExecuteTime": {
     "end_time": "2023-11-01T23:27:57.402969Z",
     "start_time": "2023-11-01T23:27:57.325183Z"
    }
   },
   "outputs": [],
   "source": [
    "import sys\n",
    "sys.path.append('/Users/gscerberus/Desktop/Loan_Prediction_Analysis')"
   ]
  },
  {
   "cell_type": "code",
   "execution_count": 21,
   "outputs": [],
   "source": [
    "import os\n",
    "os.chdir('/Users/gscerberus/Desktop/Loan_Prediction_Analysis')"
   ],
   "metadata": {
    "collapsed": false,
    "ExecuteTime": {
     "end_time": "2023-11-01T23:27:57.706081Z",
     "start_time": "2023-11-01T23:27:57.692151Z"
    }
   }
  },
  {
   "cell_type": "code",
   "execution_count": 22,
   "outputs": [],
   "source": [
    "import numpy as np\n",
    "import pandas as pd\n",
    "from src.predictions import load_model\n",
    "import warnings\n",
    "warnings.filterwarnings('ignore')\n",
    "from sklearn.preprocessing import MinMaxScaler"
   ],
   "metadata": {
    "collapsed": false,
    "ExecuteTime": {
     "end_time": "2023-11-01T23:27:58.182989Z",
     "start_time": "2023-11-01T23:27:58.150006Z"
    }
   }
  },
  {
   "cell_type": "markdown",
   "source": [
    "In this notebook, we will test our work in inference level, for a single data."
   ],
   "metadata": {
    "collapsed": false
   }
  },
  {
   "cell_type": "code",
   "execution_count": 23,
   "outputs": [],
   "source": [
    "# a test example\n",
    "X = np.array([['Male','Yes','Graduate','Yes',100, 2, 1.0, 'Urban',5849]])"
   ],
   "metadata": {
    "collapsed": false,
    "ExecuteTime": {
     "end_time": "2023-11-01T23:27:59.108623Z",
     "start_time": "2023-11-01T23:27:59.085349Z"
    }
   }
  },
  {
   "cell_type": "code",
   "execution_count": 24,
   "outputs": [
    {
     "name": "stdout",
     "output_type": "stream",
     "text": [
      "<class 'pandas.core.frame.DataFrame'>\n",
      "RangeIndex: 534 entries, 0 to 533\n",
      "Data columns (total 10 columns):\n",
      " #   Column            Non-Null Count  Dtype  \n",
      "---  ------            --------------  -----  \n",
      " 0   Gender            534 non-null    object \n",
      " 1   Married           534 non-null    object \n",
      " 2   Education         534 non-null    object \n",
      " 3   Self_Employed     534 non-null    object \n",
      " 4   LoanAmount        534 non-null    float64\n",
      " 5   Loan_Amount_Term  534 non-null    float64\n",
      " 6   Credit_History    534 non-null    float64\n",
      " 7   Property_Area     534 non-null    object \n",
      " 8   Loan_Status       534 non-null    object \n",
      " 9   TotalIncome       534 non-null    float64\n",
      "dtypes: float64(4), object(6)\n",
      "memory usage: 41.8+ KB\n"
     ]
    }
   ],
   "source": [
    "df = pd.read_csv('data/pre_final_data_set.csv')\n",
    "\n",
    "df.info()"
   ],
   "metadata": {
    "collapsed": false,
    "ExecuteTime": {
     "end_time": "2023-11-01T23:27:59.820717Z",
     "start_time": "2023-11-01T23:27:59.777236Z"
    }
   }
  },
  {
   "cell_type": "code",
   "execution_count": 25,
   "outputs": [],
   "source": [
    "# Loading pickle files\n",
    "encoder = load_model('serials/encoder.pkl')\n",
    "scaler = load_model('serials/scaler.pkl')\n",
    "model = load_model('serials/logistic_regression.pkl')"
   ],
   "metadata": {
    "collapsed": false,
    "ExecuteTime": {
     "end_time": "2023-11-01T23:28:00.367734Z",
     "start_time": "2023-11-01T23:28:00.338252Z"
    }
   }
  },
  {
   "cell_type": "code",
   "execution_count": 26,
   "outputs": [
    {
     "data": {
      "text/plain": "{'min_max_scaler': MinMaxScaler()}"
     },
     "execution_count": 26,
     "metadata": {},
     "output_type": "execute_result"
    }
   ],
   "source": [
    "scaler"
   ],
   "metadata": {
    "collapsed": false,
    "ExecuteTime": {
     "end_time": "2023-11-01T23:28:00.835914Z",
     "start_time": "2023-11-01T23:28:00.805830Z"
    }
   }
  },
  {
   "cell_type": "code",
   "execution_count": 27,
   "outputs": [],
   "source": [
    "# applying encoding\n",
    "\n",
    "X[:, 0] = encoder['label_encoder_Gender'].transform(X[:, 0])\n",
    "X[:, 1] = encoder['label_encoder_Married'].transform(X[:, 1])\n",
    "X[:, 2] = encoder['label_encoder_Education'].transform(X[:, 2])\n",
    "X[:, 3] = encoder['label_encoder_Self_Employed'].transform(X[:, 3])\n",
    "X[:, 7] = encoder['label_encoder_Property_Area'].transform(X[:, 7])\n"
   ],
   "metadata": {
    "collapsed": false,
    "ExecuteTime": {
     "end_time": "2023-11-01T23:28:01.181869Z",
     "start_time": "2023-11-01T23:28:01.154302Z"
    }
   }
  },
  {
   "cell_type": "code",
   "execution_count": 28,
   "outputs": [],
   "source": [
    "# applying scaling\n",
    "\n",
    "X[:, [4,5,8]] = scaler['min_max_scaler'].transform(X[:, [4,5,8]])"
   ],
   "metadata": {
    "collapsed": false,
    "ExecuteTime": {
     "end_time": "2023-11-01T23:28:01.467706Z",
     "start_time": "2023-11-01T23:28:01.446297Z"
    }
   }
  },
  {
   "cell_type": "code",
   "execution_count": 29,
   "outputs": [],
   "source": [
    "X = X.astype(float).round(2)"
   ],
   "metadata": {
    "collapsed": false,
    "ExecuteTime": {
     "end_time": "2023-11-01T23:28:01.827345Z",
     "start_time": "2023-11-01T23:28:01.800137Z"
    }
   }
  },
  {
   "cell_type": "code",
   "execution_count": 30,
   "outputs": [],
   "source": [
    "y_pred = model.predict(X.astype(float))"
   ],
   "metadata": {
    "collapsed": false,
    "ExecuteTime": {
     "end_time": "2023-11-01T23:28:02.444634Z",
     "start_time": "2023-11-01T23:28:02.416487Z"
    }
   }
  },
  {
   "cell_type": "code",
   "execution_count": 31,
   "outputs": [
    {
     "data": {
      "text/plain": "array([1.])"
     },
     "execution_count": 31,
     "metadata": {},
     "output_type": "execute_result"
    }
   ],
   "source": [
    "y_pred"
   ],
   "metadata": {
    "collapsed": false,
    "ExecuteTime": {
     "end_time": "2023-11-01T23:28:02.853890Z",
     "start_time": "2023-11-01T23:28:02.829459Z"
    }
   }
  },
  {
   "cell_type": "markdown",
   "source": [
    "The results are pleasant, the predictions are realistic and now let's transfer all this in a UI using streamlit."
   ],
   "metadata": {
    "collapsed": false
   }
  },
  {
   "cell_type": "code",
   "execution_count": null,
   "outputs": [],
   "source": [],
   "metadata": {
    "collapsed": false
   }
  }
 ],
 "metadata": {
  "kernelspec": {
   "name": "ml",
   "language": "python",
   "display_name": "ml"
  },
  "language_info": {
   "codemirror_mode": {
    "name": "ipython",
    "version": 2
   },
   "file_extension": ".py",
   "mimetype": "text/x-python",
   "name": "python",
   "nbconvert_exporter": "python",
   "pygments_lexer": "ipython2",
   "version": "2.7.6"
  }
 },
 "nbformat": 4,
 "nbformat_minor": 0
}
